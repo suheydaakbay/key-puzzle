{
 "cells": [
  {
   "cell_type": "code",
   "execution_count": 43,
   "metadata": {},
   "outputs": [],
   "source": [
    "# a = \" \"\n",
    "\n",
    "# rule0 = 0\n",
    "# fo i in range len[a]:\n",
    "# if a [i] == 6:\n",
    "#     rule0 += 1\n",
    "\n",
    "# if a [i] == 9:\n",
    "#     rule0 += 1\n",
    "\n",
    "# if a [i] == 0:\n",
    "#     rule0 += 1"
   ]
  },
  {
   "cell_type": "code",
   "execution_count": 44,
   "metadata": {},
   "outputs": [],
   "source": [
    "def rule690(key):\n",
    "    matches = 0\n",
    "    if key[0] == \"6\":\n",
    "        matches += 1\n",
    "\n",
    "    if key[1] == \"9\":\n",
    "        matches += 1\n",
    "\n",
    "    if key[2] == \"0\":\n",
    "        matches += 1\n",
    "    \n",
    "    return matches == 1"
   ]
  },
  {
   "cell_type": "code",
   "execution_count": 45,
   "metadata": {},
   "outputs": [],
   "source": [
    "def rule741(key):\n",
    "    if key[0] == \"7\" or key[1] == \"4\" or key[2] == \"1\":\n",
    "        return False\n",
    "\n",
    "    matches = 0\n",
    "    if \"7\" in key and key[0] != \"7\":\n",
    "        matches += 1\n",
    "\n",
    "    if \"4\" in key and key[1] != \"4\":\n",
    "        matches += 1\n",
    "\n",
    "    if \"1\" in key and key[2] != \"1\":\n",
    "        matches += 1\n",
    "    \n",
    "    return matches == 1 "
   ]
  },
  {
   "cell_type": "code",
   "execution_count": 46,
   "metadata": {},
   "outputs": [],
   "source": [
    "def rule504(key):\n",
    "    if key[0] == \"5\" or key[1] == \"0\" or key[2] == \"4\":\n",
    "        return False\n",
    "\n",
    "    matches = 0\n",
    "    if \"5\" in key and key[0] != \"5\":\n",
    "        matches += 1\n",
    "\n",
    "    if \"0\" in key and key[1] != \"0\":\n",
    "        matches += 1\n",
    "\n",
    "    if \"4\" in key and key[2] != \"4\":\n",
    "        matches += 1\n",
    "    \n",
    "    return matches == 2 "
   ]
  },
  {
   "cell_type": "code",
   "execution_count": 47,
   "metadata": {},
   "outputs": [],
   "source": [
    "def rule387(key):\n",
    "    return \"3\" not in key and \"8\" not in key and \"7\" not in key"
   ]
  },
  {
   "cell_type": "code",
   "execution_count": 48,
   "metadata": {},
   "outputs": [],
   "source": [
    "def rule219(key):\n",
    "    if key[0] == \"2\" or key[1] == \"1\" or key[2] == \"9\":\n",
    "        return False\n",
    "\n",
    "    matches = 0\n",
    "    if \"2\" in key and key[0] != \"2\":\n",
    "        matches += 1\n",
    "\n",
    "    if \"1\" in key and key[1] != \"1\":\n",
    "        matches += 1\n",
    "\n",
    "    if \"9\" in key and key[2] != \"9\":\n",
    "        matches += 1\n",
    "    \n",
    "    return matches == 1 "
   ]
  },
  {
   "cell_type": "code",
   "execution_count": 49,
   "metadata": {},
   "outputs": [],
   "source": [
    "def rule (key):\n",
    "    return rule690(key) and rule741(key) and rule504(key) and rule387(key) and rule219(key)"
   ]
  },
  {
   "cell_type": "code",
   "execution_count": 50,
   "metadata": {},
   "outputs": [
    {
     "name": "stdout",
     "output_type": "stream",
     "text": [
      "150\n",
      "420\n",
      "495\n"
     ]
    }
   ],
   "source": [
    "for i in range(1000):\n",
    "    key = str(i).rjust(3, '0')\n",
    "    if rule(key):\n",
    "        print(key)\n"
   ]
  }
 ],
 "metadata": {
  "interpreter": {
   "hash": "b0fa6594d8f4cbf19f97940f81e996739fb7646882a419484c72d19e05852a7e"
  },
  "kernelspec": {
   "display_name": "Python 3.9.12 64-bit",
   "language": "python",
   "name": "python3"
  },
  "language_info": {
   "codemirror_mode": {
    "name": "ipython",
    "version": 3
   },
   "file_extension": ".py",
   "mimetype": "text/x-python",
   "name": "python",
   "nbconvert_exporter": "python",
   "pygments_lexer": "ipython3",
   "version": "3.9.12"
  },
  "orig_nbformat": 4
 },
 "nbformat": 4,
 "nbformat_minor": 2
}
